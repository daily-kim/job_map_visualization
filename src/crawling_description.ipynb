{
 "cells": [
  {
   "cell_type": "code",
   "execution_count": 1,
   "metadata": {},
   "outputs": [],
   "source": [
    "import requests\n",
    "from bs4 import BeautifulSoup as bs\n",
    "import pandas as pd\n",
    "import numpy as np\n",
    "# import torch"
   ]
  },
  {
   "cell_type": "code",
   "execution_count": 2,
   "metadata": {},
   "outputs": [],
   "source": [
    "subject_common = pd.read_csv('data/subject_common_info.csv')\n",
    "subject_common['subject_type'] = \"common\"\n",
    "subject_common['subject_grade'] = 1\n",
    "select_common = [\"화법과 작문\",\"독서\",\"언어와 매체\",\"문학\",\"수학Ⅰ\",\"수학Ⅱ\",\"미적분\",\"확률과 통계\",\"영어회화\",\"영어Ⅰ\",\"영어독해와 작문\",\"영어Ⅱ\",\"한국지리\",\"세계지리\",\"세계사\",\"동아시아사\",\"경제\",\"정치와 법\",\"사회·문화\",\"생활과 윤리\",\"윤리와 사상\",\"물리학Ⅰ\",\"화학Ⅰ\",\"생명과학Ⅰ\",\"지구과학Ⅰ\",\"체육\",\"운동과 건강\",\"음악\",\"미술\",\"연극\",\"기술·가정\",\"정보\",\"독일어Ⅰ\",\"한문Ⅰ\",\"철학\",\"논리학\",\"심리학\",\"교육학\",\"종교학\",\"진로와 직업\",\"보건\",\"환경\",\"실용 경제\",\"논술\"]\n",
    "\n",
    "#check text is in select_common\n",
    "def check_common(text):\n",
    "    return any(i in text for i in select_common)\n",
    "\n",
    "#선택교과\n",
    "subject_names = []\n",
    "subject_desc = []\n",
    "subject_type = []\n",
    "subject_grade = []\n",
    "\n",
    "for i in range(1,100):\n",
    "    page = requests.get(f\"https://www.cbe.go.kr/dept/19/sub.php?menukey=4496&mod=list1&code1=1&code2={i}\")\n",
    "    soup = bs(page.text, \"html.parser\")\n",
    "    soup = soup.find(\"div\",id=\"contentsType\")\n",
    "    try:\n",
    "        subject_name = soup.find(\"h3\").text\n",
    "        subject_names.append(subject_name)\n",
    "    except Exception:\n",
    "        continue\n",
    "    elements = soup.find_all('p')\n",
    "    subject_desc.append(elements[0].text) # 과목설명\n",
    "    if check_common(subject_name):\n",
    "        subject_type.append(\"select_common\")\n",
    "        subject_grade.append(2)\n",
    "    else:\n",
    "        subject_type.append(\"select_career\")\n",
    "        subject_grade.append(3)\n",
    "subject_select = pd.DataFrame({\"name\":subject_names,\"description\":subject_desc, \"subject_type\":subject_type, \"subject_grade\":subject_grade})\n"
   ]
  },
  {
   "cell_type": "code",
   "execution_count": 7,
   "metadata": {},
   "outputs": [],
   "source": [
    "def crawler_prof(menu_key, code1, start, end):\n",
    "    for i in range(start,end):\n",
    "        page = requests.get(f\"https://www.cbe.go.kr/dept/19/sub.php?menukey={menu_key}&mod=list2&code1={code1}&code2={i}\")\n",
    "        soup = bs(page.text, \"html.parser\")\n",
    "        soup = soup.find(\"div\",id=\"contentsType\")\n",
    "        try:\n",
    "            subject_name = soup.find(\"h3\").text\n",
    "            subject_names.append(subject_name)\n",
    "        except Exception:\n",
    "            print(i)\n",
    "            continue\n",
    "        elements = soup.find_all('p')\n",
    "        # print(elements)\n",
    "        try:\n",
    "            subject_desc.append(elements[0].text) # 과목설명\n",
    "        except Exception:\n",
    "            elements = soup.find_all('li')\n",
    "            desc = elements[0].text[3:]+elements[1].text[3:]+elements[2].text[3:]\n",
    "            subject_desc.append(desc) # 과목설명(li 가나다)\n"
   ]
  },
  {
   "cell_type": "code",
   "execution_count": 8,
   "metadata": {},
   "outputs": [],
   "source": [
    "#전문교과\n",
    "subject_names = []\n",
    "subject_desc = []\n",
    "subject_grade = []\n",
    "\n",
    "crawler_prof(4538, 97, 98, 114)\n",
    "crawler_prof(4538, 114, 115, 129)\n",
    "crawler_prof(4538, 129, 130, 178)\n",
    "crawler_prof(4538, 179, 180, 235)\n",
    "crawler_prof(4538, 236, 237, 248)\n",
    "\n",
    "subject_type = [\"professional_1\" for _ in range(len(subject_names))]\n",
    "subject_grade = [3 for _ in range(len(subject_names))]\n",
    "subject_professional = pd.DataFrame({\"name\":subject_names,\"description\":subject_desc, \"subject_type\":subject_type,\"subject_grade\":subject_grade})\n"
   ]
  },
  {
   "cell_type": "code",
   "execution_count": 9,
   "metadata": {},
   "outputs": [],
   "source": [
    "subjects = pd.concat([subject_common, subject_select, subject_professional],axis=0)\n",
    "subjects.to_csv('data/subject_info.csv',header=True)"
   ]
  }
 ],
 "metadata": {
  "kernelspec": {
   "display_name": "Python 3",
   "language": "python",
   "name": "python3"
  },
  "language_info": {
   "codemirror_mode": {
    "name": "ipython",
    "version": 3
   },
   "file_extension": ".py",
   "mimetype": "text/x-python",
   "name": "python",
   "nbconvert_exporter": "python",
   "pygments_lexer": "ipython3",
   "version": "3.10.9"
  },
  "orig_nbformat": 4,
  "vscode": {
   "interpreter": {
    "hash": "b0fa6594d8f4cbf19f97940f81e996739fb7646882a419484c72d19e05852a7e"
   }
  }
 },
 "nbformat": 4,
 "nbformat_minor": 2
}
