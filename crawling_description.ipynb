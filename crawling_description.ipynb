{
 "cells": [
  {
   "cell_type": "code",
   "execution_count": null,
   "metadata": {},
   "outputs": [],
   "source": [
    "import requests\n",
    "from bs4 import BeautifulSoup as bs\n",
    "import pandas as pd\n",
    "import numpy as np\n",
    "# import torch"
   ]
  },
  {
   "cell_type": "code",
   "execution_count": null,
   "metadata": {},
   "outputs": [],
   "source": [
    "#보통교과\n",
    "subject_names = []\n",
    "subject_desc = []\n",
    "subject_abil = []\n",
    "subject_related = []\n",
    "for i in range(1,100):\n",
    "    page = requests.get(f\"https://www.cbe.go.kr/dept/19/sub.php?menukey=4496&mod=list1&code1=1&code2={i}\")\n",
    "    soup = bs(page.text, \"html.parser\")\n",
    "    soup = soup.find(\"div\",id=\"contentsType\")\n",
    "    try:\n",
    "        subject_names.append(soup.find(\"h3\").text)\n",
    "    except Exception:\n",
    "        continue\n",
    "    elements = soup.find_all('p')\n",
    "    subject_desc.append(elements[0].text) # 과목설명\n",
    "    subject_abil.append(elements[1].text) # 과목역량\n",
    "    subject_related.append(elements[3].text) #연계과목\n",
    "\n",
    "subject_related_listed = []\n",
    "for line in subject_related:\n",
    "    new_string = line.replace('+',',')\n",
    "    subject_related_listed.append(new_string.split(sep=','))\n",
    "\n",
    "subject_common = pd.DataFrame({\"name\":subject_names,\"description\":subject_desc, \"ability\":subject_abil,\"related_subjects\":subject_related_listed})\n"
   ]
  },
  {
   "cell_type": "code",
   "execution_count": 131,
   "metadata": {},
   "outputs": [],
   "source": [
    "def crawler_prof(menu_key, code1, start, end):\n",
    "    for i in range(start,end):\n",
    "        page = requests.get(f\"https://www.cbe.go.kr/dept/19/sub.php?menukey={menu_key}&mod=list2&code1={code1}&code2={i}\")\n",
    "        soup = bs(page.text, \"html.parser\")\n",
    "        soup = soup.find(\"div\",id=\"contentsType\")\n",
    "        try:\n",
    "            subject_names.append(soup.find(\"h3\").text)\n",
    "        except Exception:\n",
    "            print(i)\n",
    "            continue\n",
    "        elements = soup.find_all('p')\n",
    "        # print(elements)\n",
    "        try:\n",
    "            subject_desc.append(elements[0].text) # 과목설명\n",
    "        except:\n",
    "            elements = soup.find_all('li')\n",
    "            desc = elements[0].text[3:]+elements[1].text[3:]+elements[2].text[3:]\n",
    "            subject_desc.append(desc) # 과목설명(li 가나다)\n"
   ]
  },
  {
   "cell_type": "code",
   "execution_count": 135,
   "metadata": {},
   "outputs": [],
   "source": [
    "#전문교과\n",
    "subject_names = []\n",
    "subject_desc = []\n",
    "subject_abil = []\n",
    "subject_related = []\n",
    "\n",
    "crawler_prof(4538, 97, 98, 114)\n",
    "crawler_prof(4538, 114, 115, 129)\n",
    "crawler_prof(4538, 129, 130, 178)\n",
    "crawler_prof(4538, 179, 180, 235)\n",
    "crawler_prof(4538, 236, 237, 248)\n",
    "\n",
    "subject_abil = [\" \" for _ in range(len(subject_names))]\n",
    "subject_related = [[] for _ in range(len(subject_names))]\n",
    "subject_professional = pd.DataFrame({\"name\":subject_names,\"description\":subject_desc, \"ability\":subject_abil,\"related_subjects\":subject_related})"
   ]
  },
  {
   "cell_type": "code",
   "execution_count": 157,
   "metadata": {},
   "outputs": [],
   "source": [
    "subject_common[\"type\"]=\"common\"\n",
    "subject_professional[\"type\"]=\"prof\""
   ]
  },
  {
   "cell_type": "code",
   "execution_count": 160,
   "metadata": {},
   "outputs": [],
   "source": [
    "subjects = pd.concat([subject_common,subject_professional],axis=0)"
   ]
  },
  {
   "cell_type": "code",
   "execution_count": 162,
   "metadata": {},
   "outputs": [],
   "source": [
    "subjects.to_csv('subject_description_2015.csv',header=True)"
   ]
  }
 ],
 "metadata": {
  "kernelspec": {
   "display_name": "Python 3",
   "language": "python",
   "name": "python3"
  },
  "language_info": {
   "codemirror_mode": {
    "name": "ipython",
    "version": 3
   },
   "file_extension": ".py",
   "mimetype": "text/x-python",
   "name": "python",
   "nbconvert_exporter": "python",
   "pygments_lexer": "ipython3",
   "version": "3.10.6 (main, Aug 30 2022, 04:58:14) [Clang 13.1.6 (clang-1316.0.21.2.5)]"
  },
  "orig_nbformat": 4,
  "vscode": {
   "interpreter": {
    "hash": "b0fa6594d8f4cbf19f97940f81e996739fb7646882a419484c72d19e05852a7e"
   }
  }
 },
 "nbformat": 4,
 "nbformat_minor": 2
}
